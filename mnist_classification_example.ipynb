{
 "cells": [
  {
   "cell_type": "code",
   "execution_count": 8,
   "metadata": {},
   "outputs": [],
   "source": [
    "import sys\n",
    "sys.path.append(\"subspaces\")\n",
    "\n",
    "import torch\n",
    "import torchvision\n",
    "import matplotlib.pyplot as plt\n",
    "import math\n",
    "\n",
    "%matplotlib inline\n",
    "\n",
    "# Download MNIST dataset\n",
    "emnist_train = torchvision.datasets.EMNIST('./emnist', download=True,train=True,split='digits')\n",
    "emnist_eval = torchvision.datasets.EMNIST('./emnist', download=True,train=False,split='digits')"
   ]
  },
  {
   "cell_type": "code",
   "execution_count": 23,
   "metadata": {},
   "outputs": [],
   "source": [
    "# Transform data in a tensor of form [batch, image_data]\n",
    "# Create list of correct_labels for train and eval sets\n",
    "\n",
    "vector_size = 28*28\n",
    "\n",
    "train_data = torch.empty(len(emnist_train), vector_size)\n",
    "train_correct_labels = []\n",
    "\n",
    "eval_data = torch.empty(len(emnist_eval), vector_size)\n",
    "eval_correct_labels = []\n",
    "\n",
    "for i in range(len(emnist_train)):\n",
    "    train_data[i] = torch.squeeze(torchvision.transforms.functional.to_tensor(emnist_train[i][0])).flatten()\n",
    "    train_correct_labels.append(emnist_train[i][1])\n",
    "\n",
    "for i in range(len(emnist_eval)):\n",
    "    eval_data[i] = torch.squeeze(torchvision.transforms.functional.to_tensor(emnist_eval[i][0])).flatten()\n",
    "    eval_correct_labels.append(emnist_eval[i][1])"
   ]
  },
  {
   "cell_type": "code",
   "execution_count": 24,
   "metadata": {},
   "outputs": [],
   "source": [
    "from subspaces.vector_sm import VectorSM\n",
    "\n",
    "model = VectorSM(vector_size=vector_size)\n",
    "model.train(train_data, train_correct_labels)"
   ]
  },
  {
   "cell_type": "code",
   "execution_count": 25,
   "metadata": {},
   "outputs": [
    {
     "name": "stdout",
     "output_type": "stream",
     "text": [
      "0.88745\n"
     ]
    }
   ],
   "source": [
    "predition_list, prediction_ratio = model.eval(eval_data, eval_correct_labels)\n",
    "print(prediction_ratio)"
   ]
  },
  {
   "cell_type": "code",
   "execution_count": null,
   "metadata": {},
   "outputs": [],
   "source": [
    "# Nice. But please improve this library performance!"
   ]
  }
 ],
 "metadata": {
  "kernelspec": {
   "display_name": ".env",
   "language": "python",
   "name": "python3"
  },
  "language_info": {
   "codemirror_mode": {
    "name": "ipython",
    "version": 3
   },
   "file_extension": ".py",
   "mimetype": "text/x-python",
   "name": "python",
   "nbconvert_exporter": "python",
   "pygments_lexer": "ipython3",
   "version": "3.8.10"
  },
  "orig_nbformat": 4
 },
 "nbformat": 4,
 "nbformat_minor": 2
}
