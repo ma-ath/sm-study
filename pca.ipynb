{
 "cells": [
  {
   "cell_type": "markdown",
   "metadata": {},
   "source": [
    "### Joint Moments about the Origin (Peebles chapter 5, page 143)\n",
    "\n",
    "Let $X$, $Y$ be random variables and $f_{XY}$ be their joint density function. Joint moment $m_{nk}$ is defined by\n",
    "\n",
    "$$ m_{nk} = E[X^n Y^k] = \\int_{-\\infty}^{\\infty}\\int_{-\\infty}^{\\infty} x^{n}y^{k} f_{XY} (x,y) dx dy$$\n",
    "\n",
    "The sum $n+k$ is called the *order* of the moment. The second-order moment $m_{11}$ has a special name and is called the *correlation* of random variables $X$ and $Y$. It is denoted by the symbol\n",
    "\n",
    "$$m_{11}=R_{XY}$$\n",
    "\n",
    "In case where $E[XY] = E[X]E[Y]$, $X$ and $Y$ are called to be *uncorrelated*. In case $R_{XY}=0$, $X$ and $Y$ are called *ortogonal*."
   ]
  },
  {
   "cell_type": "markdown",
   "metadata": {},
   "source": [
    "### Joint Central Moments (Peebles chapter 5, page 144)\n",
    "\n",
    "Joint central moment $\\mu_{nk}$ is defined as:\n",
    "\n",
    "$$\\mu_{nk}=E[(X-\\bar{X})^n(Y-\\bar{Y})^k] = \\int_{-\\infty}^{\\infty} \\int_{-\\infty}^{\\infty} (x-\\bar{X})^{n}(y-\\bar{Y})^{k} f_{XY} (x,y) dx dy$$\n",
    "\n",
    "Second order moments $\\mu_{20}=E[(X-\\bar{X})^2]$ and $\\mu_{02}=E[(Y-\\bar{Y})^2]$ are simply the variances $\\sigma_X^2$ and $\\sigma_Y^2$ of $X$ and $Y$.\n",
    "\n",
    "The second order moment $\\mu_{11}$ is very important and is called the *covariance* of $X$ nad $Y$. It is depicted by\n",
    "\n",
    "$$\\mu_{11}=C_{XY}=E[(X-\\bar{X})(Y-\\bar{Y})]$$\n",
    "\n",
    "By expandind the integral, one can see that it reduces to:\n",
    "\n",
    "$$C_{XY}=R_{XY} - \\bar{X}\\bar{Y}$$\n",
    "\n",
    "and therefore, $C_{XY}=0$ if $X$ and $Y$ are either *independent* or *uncorrelated* ($R_{XY}=\\bar{X}\\bar{Y}$).\n",
    "\n",
    "If $X$ and $Y$ are ortogonoal, $R_{XY}=0$ and $C_{XY}=-\\bar{X}\\bar{Y}$.\n",
    "\n",
    "The normalized second-order moment $\\rho_{XY}=\\mu_{11}/\\sqrt{\\mu_{20}\\mu_{02}} = C_{XY}/\\sigma_{X}\\sigma_{Y}$ is known as *correlation coefficient* and $-1<\\rho<1$"
   ]
  },
  {
   "cell_type": "markdown",
   "metadata": {},
   "source": [
    "### Linear combination of random variables, covariance and correlation Matrices\n",
    "\n",
    "Let $X=[X_1 \\dots X_n]^T$ be a vector of $n$ real-valued random variables.\n",
    "\n",
    "Assuming that the covariances $C_{X_i X_j}, 0<ij<n$ are well defined, the *covariance matrix* $\\textbf{C}$ is defined as:\n",
    "\n",
    "$$\\textbf{C} = \\begin{bmatrix}\n",
    "C_{X_1 X_1} & C_{X_1 X_2} & \\ldots & C_{X_1 X_n}\\\\\n",
    "C_{X_2 X_1} & C_{X_2 X_2} & \\ldots & C_{X_2 X_n}\\\\\n",
    "\\vdots & \\vdots & \\ddots & \\vdots\\\\\n",
    "C_{X_n X_1} & C_{X_n X_2} & \\ldots & C_{X_n X_n}\n",
    "\\end{bmatrix}$$\n",
    "\n",
    "The covariance matrix together with the vector of means $\\textbf{m}=[\\bar{X_1} \\bar{X_2} \\ldots \\bar{X_n}]^T$ allows to calculate first two moments of any linear combination of the $n$ random variables:\n",
    "\n",
    "$$Y=a_1 X_1 + a_2 X_2 + \\ldots + a_n X_n \\\\\n",
    "\\rightarrow \\bar{Y} = \\textbf{a}^T \\textbf{m} \\\\\n",
    "\\rightarrow \\sigma_{Y}^2=E[(Y-\\bar{Y})^2] = \\ldots = \\textbf{a}^T \\textbf{C} \\textbf{a}$$\n",
    "\n",
    "The *correlation matrix* is the matrix of correlation coefficients $\\rho_{X_i X_j}$ and is defined as:\n",
    "\n",
    "$$\\textbf{R} = \\begin{bmatrix}\n",
    "\\rho_{X_1 X_1} & \\rho_{X_1 X_2} & \\ldots & \\rho_{X_1 X_n}\\\\\n",
    "\\rho_{X_2 X_1} & \\rho_{X_2 X_2} & \\ldots & \\rho_{X_2 X_n}\\\\\n",
    "\\vdots & \\vdots & \\ddots & \\vdots\\\\\n",
    "\\rho_{X_n X_1} & \\rho_{X_n X_2} & \\ldots & \\rho_{X_n X_n}\\\\\n",
    "\\end{bmatrix}$$\n",
    "\n",
    "if $\\textbf{r}=[a_1\\sigma_1 a_2\\sigma_2 \\ldots a_n\\sigma_n]^T$, therefore:\n",
    "\n",
    "$$\\sigma_Y^2=\\textbf{r}^T\\textbf{R}\\textbf{r}$$"
   ]
  },
  {
   "cell_type": "markdown",
   "metadata": {},
   "source": [
    "### References\n",
    "\n",
    "*Probability, Random Variables and Random Signal Proncipals - Peyton Peebles* (https://www.amazon.co.jp/Probability-Random-Variables-Signal-Principles/dp/0070474281/ref=sr_1_1?qid=1662022122&refinements=p_27%3APeyton+Peebles&s=books&sr=1-1&text=Peyton+Peebles)\n",
    "\n",
    "*Covariance and correlation matrix. Sums of random variables, their distributions, characteristics and characteristic functions.*\n",
    "https://web.sgh.waw.pl/~rlocho/classes_5_PTSP2019.pdf"
   ]
  }
 ],
 "metadata": {
  "kernelspec": {
   "display_name": "Python 3.10.4 ('env': venv)",
   "language": "python",
   "name": "python3"
  },
  "language_info": {
   "codemirror_mode": {
    "name": "ipython",
    "version": 3
   },
   "file_extension": ".py",
   "mimetype": "text/x-python",
   "name": "python",
   "nbconvert_exporter": "python",
   "pygments_lexer": "ipython3",
   "version": "3.10.4"
  },
  "orig_nbformat": 4,
  "vscode": {
   "interpreter": {
    "hash": "016cd2178a8053b5595958e59a0d24370f913bb5fc4da5760f6ef0caa289bc0c"
   }
  }
 },
 "nbformat": 4,
 "nbformat_minor": 2
}
