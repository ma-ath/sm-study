{
 "cells": [
  {
   "cell_type": "markdown",
   "id": "09c6d5e9",
   "metadata": {},
   "source": [
    "# Study about subspace methods"
   ]
  },
  {
   "cell_type": "markdown",
   "metadata": {},
   "source": [
    "Seja $x$ um vetor de entrada, e $Q$ um subspaco espamado por vetores de base $\\phi_i$. A funcao $S$ que mede a distancia entre $x$ e o subespaco $Q$ eh dada por:\n",
    "\n",
    "\n",
    "$$ S = \\sum_{i=0}^{r-1} \\frac{(x,\\phi_i)^2}{\\|x\\|\\|\\phi_i\\|} $$\n",
    "\n",
    "onde $r$ eh o numero de vetores de base."
   ]
  },
  {
   "cell_type": "code",
   "execution_count": 22,
   "id": "673b8ef5",
   "metadata": {},
   "outputs": [
    {
     "name": "stdout",
     "output_type": "stream",
     "text": [
      "tensor(7.9877)\n"
     ]
    }
   ],
   "source": [
    "import torch\n",
    "\n",
    "r = 10\n",
    "x = torch.rand(1,5)\n",
    "phi = torch.rand(r,5)\n",
    "\n",
    "S = 0\n",
    "for i in range(r):\n",
    "    S+=torch.sum(x*phi[i]) / (torch.norm(x)*torch.norm(phi[i]))\n",
    "print(S)"
   ]
  },
  {
   "cell_type": "markdown",
   "id": "2a64b5e5",
   "metadata": {},
   "source": [
    "No caso em que o numero de vetores $r=1$, seja pelo subpaco so ter um vetor de base, seja por estarmos escolhendo um _vetor representante_ (代表ベクト\n",
    "ル), a funcao $S$ se torna uma similaridade simples (単純類似度). Ao fazer isso com um vetor representante, as flutuacoes de padrao na entrada sao mais facilmente absorvidas."
   ]
  },
  {
   "cell_type": "markdown",
   "id": "54d5464a",
   "metadata": {},
   "source": [
    "De forma natural, podemos estender a ideia de medir a similaridade entre um vetor e um subespaco, para medirmos a similaridade entre 2 subespacos vetoriais.\n",
    "Imagine agora que temos um espaco vetorial $P$ e um espaco vetorial $Q$. Definimos o **Mutual subspace method** (相互部分空間法) atraves da seguinte funcao de similaridade $S$:\n",
    "\n",
    "$$ S = \\max_{u \\neq 0 \\in P, v \\neq 0 \\in Q} \\sum_{i=0}^{r-1} \\frac{(u \\cdot v)^2}{\\|u\\|\\|v\\|} $$\n",
    "\n",
    "Onde $u$ e $v$ sao vetores arbitrarios de seus respectivos espacos vetoriais. A formulação para este problema é visto em análise de correlação canônica (canonical correlation analysis) em análise multivariada (多変量解析における正準相関分析). No caso, o metodo MSM eh um caso especifico da analise de correlacao canonica."
   ]
  },
  {
   "cell_type": "code",
   "execution_count": null,
   "id": "6e2d3db2",
   "metadata": {},
   "outputs": [],
   "source": []
  }
 ],
 "metadata": {
  "kernelspec": {
   "display_name": "Python 3.10.4 ('env': venv)",
   "language": "python",
   "name": "python3"
  },
  "language_info": {
   "codemirror_mode": {
    "name": "ipython",
    "version": 3
   },
   "file_extension": ".py",
   "mimetype": "text/x-python",
   "name": "python",
   "nbconvert_exporter": "python",
   "pygments_lexer": "ipython3",
   "version": "3.10.4"
  },
  "vscode": {
   "interpreter": {
    "hash": "016cd2178a8053b5595958e59a0d24370f913bb5fc4da5760f6ef0caa289bc0c"
   }
  }
 },
 "nbformat": 4,
 "nbformat_minor": 5
}
