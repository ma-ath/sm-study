{
 "cells": [
  {
   "cell_type": "code",
   "execution_count": 1,
   "metadata": {},
   "outputs": [],
   "source": [
    "import sys\n",
    "sys.path.append(\"subspaces\")\n",
    "\n",
    "import torch\n",
    "import torchvision\n",
    "import matplotlib.pyplot as plt\n",
    "import math\n",
    "from tqdm.notebook import tqdm\n",
    "\n",
    "%matplotlib inline"
   ]
  },
  {
   "cell_type": "code",
   "execution_count": 2,
   "metadata": {},
   "outputs": [],
   "source": [
    "# Load Dataset\n",
    "import scipy.io as sio\n",
    "\n",
    "dataset_path = \"/home/pc-bonito/Datasets/TsukubaHandSize24x24.mat\"\n",
    "\n",
    "mat_contents = sio.loadmat(dataset_path)\n",
    "dataset = torch.from_numpy(mat_contents[\"data\"])\n",
    "# [H, W, images_per_view, cameras, classes, persons]"
   ]
  },
  {
   "cell_type": "code",
   "execution_count": 3,
   "metadata": {},
   "outputs": [],
   "source": [
    "# Split participants in 80%/20% splits. \n",
    "train_split = int(dataset.shape[-1] * 0.8)\n",
    "\n",
    "# Flatten a list of lists\n",
    "def flatten(l):\n",
    "    return [item for sublist in l for item in sublist]"
   ]
  },
  {
   "cell_type": "code",
   "execution_count": 4,
   "metadata": {},
   "outputs": [
    {
     "name": "stdout",
     "output_type": "stream",
     "text": [
      "1008000\n",
      "torch.Size([1008000, 576])\n"
     ]
    }
   ],
   "source": [
    "# Reshape train data\n",
    "dataset_train = dataset[:,:,:,:,:,:train_split]\n",
    "dataset_train = dataset_train.permute(4, 3, 5, 2, 0, 1)\n",
    "dataset_train = torch.flatten(dataset_train, start_dim=1, end_dim=3)\n",
    "dataset_train = torch.flatten(dataset_train, start_dim=2, end_dim=3)\n",
    "\n",
    "# Generate class labels and reshape dataset_train\n",
    "labels_train = [i for i in range(dataset_train.shape[0])]\n",
    "labels_train = flatten([[labels_train[i]]*dataset_train.shape[1] for i in range(dataset_train.shape[0])])\n",
    "\n",
    "dataset_train = torch.reshape(dataset_train, (dataset_train.shape[0]*dataset_train.shape[1], dataset_train.shape[2]))\n",
    "\n",
    "print(len(labels_train))\n",
    "print(dataset_train.shape)"
   ]
  },
  {
   "cell_type": "code",
   "execution_count": 5,
   "metadata": {},
   "outputs": [
    {
     "name": "stdout",
     "output_type": "stream",
     "text": [
      "36000\n",
      "36000\n"
     ]
    }
   ],
   "source": [
    "from subspaces.vector_space import VectorSpace\n",
    "\n",
    "dataset_eval = dataset[:, :, :, :, :, train_split:]\n",
    "dataset_eval = dataset_eval.permute(4, 3, 5, 2, 0, 1)\n",
    "dataset_eval = torch.flatten(dataset_eval, start_dim=2, end_dim=3)\n",
    "dataset_eval = torch.flatten(dataset_eval, start_dim=3, end_dim=4)\n",
    "dataset_eval = dataset_eval.permute(0, 2, 1, 3)\n",
    "\n",
    "# Generates a vector space for each label. Each vector space contains as base vectors, the images from each view.\n",
    "eval_subspace_list = []\n",
    "eval_correct_labels = []\n",
    "\n",
    "label = 0\n",
    "for i in dataset_eval:\n",
    "    for person_image in i:\n",
    "        vspace = VectorSpace(vector_size=24*24)\n",
    "        vspace.append(person_image)\n",
    "        eval_subspace_list.append(vspace)\n",
    "        eval_correct_labels.append(label)\n",
    "    label += 1\n",
    "\n",
    "print(len(eval_subspace_list))\n",
    "print(len(eval_correct_labels))"
   ]
  },
  {
   "cell_type": "code",
   "execution_count": 6,
   "metadata": {},
   "outputs": [
    {
     "data": {
      "application/vnd.jupyter.widget-view+json": {
       "model_id": "fbab38dad3db4baebf9318139a3288a3",
       "version_major": 2,
       "version_minor": 0
      },
      "text/plain": [
       "  0%|          | 0/20 [00:00<?, ?it/s]"
      ]
     },
     "metadata": {},
     "output_type": "display_data"
    },
    {
     "name": "stdout",
     "output_type": "stream",
     "text": [
      "0.05669444444444444\n",
      "0.05669444444444444\n"
     ]
    }
   ],
   "source": [
    "from subspaces.vector_msm import VectorMSM\n",
    "# Train model\n",
    "min_energy_list = torch.linspace(0.05, 1, 20)\n",
    "ratio = []\n",
    "\n",
    "for min_energy in tqdm(min_energy_list):\n",
    "    model = VectorMSM(vector_size=24*24)\n",
    "    model.train(dataset_train, labels_train)\n",
    "\n",
    "    # Eval model\n",
    "    _, accuracy = model.eval(eval_subspace_list, eval_correct_labels)\n",
    "\n",
    "    print(accuracy)\n",
    "    ratio.append(accuracy)"
   ]
  },
  {
   "cell_type": "code",
   "execution_count": null,
   "metadata": {},
   "outputs": [],
   "source": [
    "import matplotlib.pyplot as plt\n",
    "\n",
    "plt.plot(min_energy_list.numpy(), ratio, 'r--')\n",
    "plt.title(\"Correct predictions over minimum energy preserved on SVD\")\n",
    "plt.xlabel(\"minimum energy preserved on SVD\")\n",
    "plt.ylabel(\"prediction ratio\")\n",
    "plt.show()"
   ]
  }
 ],
 "metadata": {
  "kernelspec": {
   "display_name": ".env",
   "language": "python",
   "name": "python3"
  },
  "language_info": {
   "codemirror_mode": {
    "name": "ipython",
    "version": 3
   },
   "file_extension": ".py",
   "mimetype": "text/x-python",
   "name": "python",
   "nbconvert_exporter": "python",
   "pygments_lexer": "ipython3",
   "version": "3.8.10"
  },
  "orig_nbformat": 4
 },
 "nbformat": 4,
 "nbformat_minor": 2
}
